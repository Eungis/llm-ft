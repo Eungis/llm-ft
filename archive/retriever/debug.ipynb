{
 "cells": [
  {
   "cell_type": "code",
   "execution_count": 3,
   "metadata": {},
   "outputs": [],
   "source": [
    "import logging\n",
    "from typing import List\n",
    "from fox.utils.startup import config\n",
    "try:\n",
    "    from MeCab import Tagger\n",
    "except ImportError as e:\n",
    "    logging.error(\"MeCab is not installed. Install the MeCab first.\")\n",
    "    \n",
    "class KoMecabTokenizer():\n",
    "    # `mecab-ko-dic` path: default path with mecab installation\n",
    "    # To add custom user-dictionary to the Mecab tokenizer, please refer to the README as below:\n",
    "    # `~/mecab/mecab-ko-dic-2.1.1-20180720/user-dic/README.md`\n",
    "    \n",
    "    def __init__(self):       \n",
    "        self.mecab = Tagger(f'-d {config.get_key(\"mecab_dic_path\")}')\n",
    "        self.max_seq_len = 10000 # mecab acceptable sequence length\n",
    "    \n",
    "    @staticmethod\n",
    "    def _parse_morpheme(morpheme: str):\n",
    "        if not morpheme:\n",
    "            return ('', 'SY')\n",
    "        morpheme_splits = morpheme.split('\\t', 1)\n",
    "        if len(morpheme_splits) != 2:\n",
    "            return ('', 'SY')\n",
    "        surface, tag = morpheme_splits\n",
    "        tag = tag.split(',', 1)[0]\n",
    "        return (surface, tag)\n",
    "    \n",
    "    def _split_sent(self, sent: str) -> List[str]:\n",
    "        eojeols = sent.split(\" \")\n",
    "        split_sents = [' '.join(eojeols[i:i+self.max_seq_len]) for i in range(0, len(eojeols), self.max_seq_len)]\n",
    "        return split_sents\n",
    "    \n",
    "    def pos(self, sent: str) -> List[tuple]:\n",
    "        \"\"\"Parse position of speech given sentence.\n",
    "        \n",
    "        Args:\n",
    "            sent (str): sentence to analyze\n",
    "        \"\"\"\n",
    "        # When len(sent) exceeds the max_seq_len, the MeCab Tagger return `None` instead of the pos.\n",
    "        # To prevent it, here to split sentence by eojeols and rerun the parse function.\n",
    "        eojeols = sent.split(\" \")\n",
    "        if len(eojeols) > self.max_seq_len:\n",
    "            splits = []\n",
    "            split_sents = self._split_sent(sent)\n",
    "            for _sent in split_sents:\n",
    "                _result = self.mecab.parse(_sent)\n",
    "                if _result is not None:\n",
    "                    splits.append(_result.replace('EOS\\n', ''))\n",
    "            splits.append('EOS\\n')\n",
    "            result = ''.join(splits)\n",
    "        else:\n",
    "            result = self.mecab.parse(sent)\n",
    "        if result is None:\n",
    "            raise ValueError(f\"The sentence is not tokenizable with Mecab. | len(sent): {len(eojeols)} | sent: {sent}\")\n",
    "        pos = [self._parse_morpheme(morpheme) for morpheme in result.splitlines()]\n",
    "        pos = list(filter(lambda x: x[0] != \"\", pos))\n",
    "        return pos\n",
    "        \n",
    "    def tokenize(self, sent: str) -> List[str]:\n",
    "        \"\"\"Tokenize sentence.\n",
    "        \n",
    "        Args:\n",
    "            sent (str): sentence to tokenize\n",
    "        \"\"\"\n",
    "        pos = self.pos(sent)\n",
    "        morphs = [surface for surface, _ in pos]\n",
    "        return morphs\n",
    "            \n",
    "    "
   ]
  },
  {
   "cell_type": "code",
   "execution_count": 4,
   "metadata": {},
   "outputs": [
    {
     "name": "stdout",
     "output_type": "stream",
     "text": [
      "[('안녕', 'NNG'), ('하', 'XSV'), ('세요', 'EP+EF'), ('.', 'SF')]\n"
     ]
    }
   ],
   "source": [
    "mecab = KoMecabTokenizer()\n",
    "print(mecab.pos(\"안녕하세요.\"))"
   ]
  },
  {
   "cell_type": "code",
   "execution_count": 13,
   "metadata": {},
   "outputs": [
    {
     "name": "stdout",
     "output_type": "stream",
     "text": [
      "['안녕', '하', '세요', '.', '반갑', '습니다', '.']\n"
     ]
    }
   ],
   "source": [
    "print(mecab.tokenize(\"안녕하세요. 반갑습니다.\"))"
   ]
  }
 ],
 "metadata": {
  "kernelspec": {
   "display_name": "Python 3",
   "language": "python",
   "name": "python3"
  },
  "language_info": {
   "codemirror_mode": {
    "name": "ipython",
    "version": 3
   },
   "file_extension": ".py",
   "mimetype": "text/x-python",
   "name": "python",
   "nbconvert_exporter": "python",
   "pygments_lexer": "ipython3",
   "version": "3.10.12"
  }
 },
 "nbformat": 4,
 "nbformat_minor": 2
}
