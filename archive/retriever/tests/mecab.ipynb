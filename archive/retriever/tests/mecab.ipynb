{
 "cells": [
  {
   "cell_type": "code",
   "execution_count": 6,
   "metadata": {},
   "outputs": [
    {
     "name": "stdout",
     "output_type": "stream",
     "text": [
      "파이썬\tNNP,*,T,파이썬,*,*,*,*\n",
      "에서\tJKB,*,F,에서,*,*,*,*\n",
      "형태소\tNNG,*,F,형태소,Compound,*,*,형태/NNG/*+소/NNG/*\n",
      "분석\tNNG,행위,T,분석,*,*,*,*\n",
      "하\tXSV,*,F,하,*,*,*,*\n",
      "기\tETN,*,F,기,*,*,*,*\n",
      ".\tSF,*,*,*,*,*,*,*\n",
      "EOS\n",
      "\n",
      "[('파이썬', 'NNP'), ('에서', 'JKB'), ('형태소', 'NNG'), ('분석', 'NNG'), ('하', 'XSV'), ('기', 'ETN'), ('.', 'SF')]\n"
     ]
    }
   ],
   "source": [
    "from MeCab import Tagger\n",
    "from konlpy.tag import Mecab\n",
    "\n",
    "m = Tagger(\"-d /usr/local/lib/mecab/dic/mecab-ko-dic\")\n",
    "result = m.parse(\"파이썬에서 형태소 분석하기.\")\n",
    "print(result)\n",
    "\n",
    "m = Mecab(\"/usr/local/lib/mecab/dic/mecab-ko-dic\")\n",
    "result = m.pos(\"파이썬에서 형태소 분석하기.\")\n",
    "print(result)"
   ]
  }
 ],
 "metadata": {
  "kernelspec": {
   "display_name": "Python 3",
   "language": "python",
   "name": "python3"
  },
  "language_info": {
   "codemirror_mode": {
    "name": "ipython",
    "version": 3
   },
   "file_extension": ".py",
   "mimetype": "text/x-python",
   "name": "python",
   "nbconvert_exporter": "python",
   "pygments_lexer": "ipython3",
   "version": "3.10.12"
  }
 },
 "nbformat": 4,
 "nbformat_minor": 2
}
